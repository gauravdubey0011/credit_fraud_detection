{
 "cells": [
  {
   "cell_type": "code",
   "execution_count": null,
   "metadata": {},
   "outputs": [],
   "source": [
    "import pandas as pd\n",
    "import numpy as np\n",
    "import plotly.express as px\n",
    "import plotly.graph_objects as go\n",
    "import plotly.io as pio\n",
    "pio.templates.default=\"plotly_white\"\n",
    "\n",
    "data=pd.read_csv(\"train.csv\")\n",
    "print(data.head())"
   ]
  },
  {
   "cell_type": "code",
   "execution_count": null,
   "metadata": {},
   "outputs": [],
   "source": [
    "print(data.info())"
   ]
  },
  {
   "cell_type": "code",
   "execution_count": null,
   "metadata": {},
   "outputs": [],
   "source": [
    "print(data.isnull().sum())"
   ]
  },
  {
   "cell_type": "code",
   "execution_count": null,
   "metadata": {},
   "outputs": [],
   "source": [
    "data[\"Credit_Score\"].value_counts()"
   ]
  },
  {
   "cell_type": "code",
   "execution_count": null,
   "metadata": {},
   "outputs": [],
   "source": [
    "fig=px.box(data,x=\"Occupation\",color=\"Credit_Score\",title=\"Credit Scores based on Occupation\",color_discrete_map={'Poor':'red','Standard':'yellow','Good':'green'})\n",
    "fig.show()"
   ]
  },
  {
   "cell_type": "code",
   "execution_count": null,
   "metadata": {},
   "outputs": [],
   "source": [
    "fig=px.box(data,x=\"Credit_Score\",y=\"Annual_Income\",color=\"Credit_Score\",title=\"Credit Score Based on Annual Income\",color_discrete_map={'Poor':'red','Standard':'yellow','Good':'green'})\n",
    "fig.update_traces(quartilemethod=\"exclusive\")\n",
    "fig.show()"
   ]
  },
  {
   "cell_type": "code",
   "execution_count": null,
   "metadata": {},
   "outputs": [],
   "source": [
    "fig=px.box(data,x=\"Credit_Score\",y=\"Monthly_Inhand_Salary\",color=\"Credit_Score\",title=\"Credit Scores Based on Monthly Inhand Salary\",color_discrete_map={'Poor':'red','Standard':'yellow','Good':'green'})\n",
    "fig.update_traces(quartilemethod=\"exclusive\")\n",
    "fig.show()"
   ]
  },
  {
   "cell_type": "code",
   "execution_count": null,
   "metadata": {},
   "outputs": [],
   "source": [
    "fig=px.box(data,x=\"Credit_Score\",y=\"Num_Credit_Card\",color=\"Credit_Score\",title=\"Credit Scores Based on Number of Credit cards\",color_discrete_map={'Poor':'red','Standard':'yellow','Good':'green'})\n",
    "fig.update_traces(quartilemethod=\"exclusive\")\n",
    "fig.show()"
   ]
  },
  {
   "cell_type": "code",
   "execution_count": null,
   "metadata": {},
   "outputs": [],
   "source": [
    "fig = px.box(data, \n",
    "             x=\"Credit_Score\", \n",
    "             y=\"Interest_Rate\", \n",
    "             color=\"Credit_Score\",\n",
    "             title=\"Credit Scores Based on the Average Interest rates\", \n",
    "             color_discrete_map={'Poor':'red',\n",
    "                                 'Standard':'yellow',\n",
    "                                 'Good':'green'})\n",
    "fig.update_traces(quartilemethod=\"exclusive\")\n",
    "fig.show()"
   ]
  },
  {
   "cell_type": "code",
   "execution_count": null,
   "metadata": {},
   "outputs": [],
   "source": [
    "fig = px.box(data, \n",
    "             x=\"Credit_Score\", \n",
    "             y=\"Num_of_Loan\", \n",
    "             color=\"Credit_Score\", \n",
    "             title=\"Credit Scores Based on Number of Loans Taken by the Person\",\n",
    "             color_discrete_map={'Poor':'red',\n",
    "                                 'Standard':'yellow',\n",
    "                                 'Good':'green'})\n",
    "fig.update_traces(quartilemethod=\"exclusive\")\n",
    "fig.show()"
   ]
  },
  {
   "cell_type": "code",
   "execution_count": null,
   "metadata": {},
   "outputs": [],
   "source": [
    "fig = px.box(data, \n",
    "             x=\"Credit_Score\", \n",
    "             y=\"Delay_from_due_date\", \n",
    "             color=\"Credit_Score\",\n",
    "             title=\"Credit Scores Based on Average Number of Days Delayed for Credit card Payments\", \n",
    "             color_discrete_map={'Poor':'red',\n",
    "                                 'Standard':'yellow',\n",
    "                                 'Good':'green'})\n",
    "fig.update_traces(quartilemethod=\"exclusive\")\n",
    "fig.show()"
   ]
  },
  {
   "cell_type": "code",
   "execution_count": null,
   "metadata": {},
   "outputs": [],
   "source": [
    "fig = px.box(data, \n",
    "             x=\"Credit_Score\", \n",
    "             y=\"Num_of_Delayed_Payment\", \n",
    "             color=\"Credit_Score\", \n",
    "             title=\"Credit Scores Based on Number of Delayed Payments\",\n",
    "             color_discrete_map={'Poor':'red',\n",
    "                                 'Standard':'yellow',\n",
    "                                 'Good':'green'})\n",
    "fig.update_traces(quartilemethod=\"exclusive\")\n",
    "fig.show()"
   ]
  },
  {
   "cell_type": "code",
   "execution_count": null,
   "metadata": {},
   "outputs": [],
   "source": [
    "fig = px.box(data, \n",
    "             x=\"Credit_Score\", \n",
    "             y=\"Outstanding_Debt\", \n",
    "             color=\"Credit_Score\", \n",
    "             title=\"Credit Scores Based on Outstanding Debt\",\n",
    "             color_discrete_map={'Poor':'red',\n",
    "                                 'Standard':'yellow',\n",
    "                                 'Good':'green'})\n",
    "fig.update_traces(quartilemethod=\"exclusive\")\n",
    "fig.show()"
   ]
  },
  {
   "cell_type": "code",
   "execution_count": null,
   "metadata": {},
   "outputs": [],
   "source": [
    "fig = px.box(data, \n",
    "             x=\"Credit_Score\", \n",
    "             y=\"Credit_Utilization_Ratio\", \n",
    "             color=\"Credit_Score\",\n",
    "             title=\"Credit Scores Based on Credit Utilization Ratio\", \n",
    "             color_discrete_map={'Poor':'red',\n",
    "                                 'Standard':'yellow',\n",
    "                                 'Good':'green'})\n",
    "fig.update_traces(quartilemethod=\"exclusive\")\n",
    "fig.show()"
   ]
  },
  {
   "cell_type": "code",
   "execution_count": null,
   "metadata": {},
   "outputs": [],
   "source": [
    "fig = px.box(data, \n",
    "             x=\"Credit_Score\", \n",
    "             y=\"Credit_History_Age\", \n",
    "             color=\"Credit_Score\", \n",
    "             title=\"Credit Scores Based on Credit History Age\",\n",
    "             color_discrete_map={'Poor':'red',\n",
    "                                 'Standard':'yellow',\n",
    "                                 'Good':'green'})\n",
    "fig.update_traces(quartilemethod=\"exclusive\")\n",
    "fig.show()"
   ]
  },
  {
   "cell_type": "code",
   "execution_count": null,
   "metadata": {},
   "outputs": [],
   "source": [
    "fig = px.box(data, \n",
    "             x=\"Credit_Score\", \n",
    "             y=\"Total_EMI_per_month\", \n",
    "             color=\"Credit_Score\", \n",
    "             title=\"Credit Scores Based on Total Number of EMIs per Month\",\n",
    "             color_discrete_map={'Poor':'red',\n",
    "                                 'Standard':'yellow',\n",
    "                                 'Good':'green'})\n",
    "fig.update_traces(quartilemethod=\"exclusive\")\n",
    "fig.show()"
   ]
  },
  {
   "cell_type": "code",
   "execution_count": null,
   "metadata": {},
   "outputs": [],
   "source": [
    "fig = px.box(data, \n",
    "             x=\"Credit_Score\", \n",
    "             y=\"Amount_invested_monthly\", \n",
    "             color=\"Credit_Score\", \n",
    "             title=\"Credit Scores Based on Amount Invested Monthly\",\n",
    "             color_discrete_map={'Poor':'red',\n",
    "                                 'Standard':'yellow',\n",
    "                                 'Good':'green'})\n",
    "fig.update_traces(quartilemethod=\"exclusive\")\n",
    "fig.show()"
   ]
  },
  {
   "cell_type": "code",
   "execution_count": null,
   "metadata": {},
   "outputs": [],
   "source": [
    "fig = px.box(data, \n",
    "             x=\"Credit_Score\", \n",
    "             y=\"Monthly_Balance\", \n",
    "             color=\"Credit_Score\", \n",
    "             title=\"Credit Scores Based on Monthly Balance Left\",\n",
    "             color_discrete_map={'Poor':'red',\n",
    "                                 'Standard':'yellow',\n",
    "                                 'Good':'green'})\n",
    "fig.update_traces(quartilemethod=\"exclusive\")\n",
    "fig.show()"
   ]
  },
  {
   "cell_type": "code",
   "execution_count": null,
   "metadata": {},
   "outputs": [],
   "source": [
    "data[\"Credit_Mix\"]=data[\"Credit_Mix\"].map({\"Standard\":1,\"Good\":2,\"Bad\":0})"
   ]
  },
  {
   "cell_type": "code",
   "execution_count": null,
   "metadata": {},
   "outputs": [],
   "source": [
    "from sklearn.model_selection import train_test_split\n",
    "import numpy as np\n",
    "x = np.array(data[[\"Annual_Income\", \"Monthly_Inhand_Salary\", \n",
    "                   \"Num_Bank_Accounts\", \"Num_Credit_Card\", \n",
    "                   \"Interest_Rate\", \"Num_of_Loan\", \n",
    "                   \"Delay_from_due_date\", \"Num_of_Delayed_Payment\", \n",
    "                   \"Credit_Mix\", \"Outstanding_Debt\", \n",
    "                   \"Credit_History_Age\", \"Monthly_Balance\"]])\n",
    "y = np.array(data[[\"Credit_Score\"]])"
   ]
  },
  {
   "cell_type": "code",
   "execution_count": null,
   "metadata": {},
   "outputs": [],
   "source": [
    "from sklearn.model_selection import train_test_split\n",
    "xtrain, xtest, ytrain, ytest = train_test_split(x, y, \n",
    "                                                    test_size=0.33, \n",
    "                                                    random_state=42)\n",
    "from sklearn.ensemble import RandomForestClassifier\n",
    "model = RandomForestClassifier()\n",
    "model.fit(xtrain, ytrain)"
   ]
  },
  {
   "cell_type": "code",
   "execution_count": null,
   "metadata": {},
   "outputs": [],
   "source": [
    "print(\"Credit Score Prediction : \")\n",
    "a = float(input(\"Annual Income: \"))\n",
    "b = float(input(\"Monthly Inhand Salary: \"))\n",
    "c = float(input(\"Number of Bank Accounts: \"))\n",
    "d = float(input(\"Number of Credit cards: \"))\n",
    "e = float(input(\"Interest rate: \"))\n",
    "f = float(input(\"Number of Loans: \"))\n",
    "g = float(input(\"Average number of days delayed by the person: \"))\n",
    "h = float(input(\"Number of delayed payments: \"))\n",
    "i = input(\"Credit Mix (Bad: 0, Standard: 1, Good: 3) : \")\n",
    "j = float(input(\"Outstanding Debt: \"))\n",
    "k = float(input(\"Credit History Age: \"))\n",
    "l = float(input(\"Monthly Balance: \"))\n",
    "\n",
    "features = np.array([[a, b, c, d, e, f, g, h, i, j, k, l]])\n",
    "print(\"Predicted Credit Score = \", model.predict(features))"
   ]
  }
 ],
 "metadata": {
  "kernelspec": {
   "display_name": "Python 3",
   "language": "python",
   "name": "python3"
  },
  "language_info": {
   "codemirror_mode": {
    "name": "ipython",
    "version": 3
   },
   "file_extension": ".py",
   "mimetype": "text/x-python",
   "name": "python",
   "nbconvert_exporter": "python",
   "pygments_lexer": "ipython3",
   "version": "3.11.4"
  }
 },
 "nbformat": 4,
 "nbformat_minor": 2
}
